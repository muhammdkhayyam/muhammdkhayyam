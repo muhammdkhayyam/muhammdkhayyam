{
  "nbformat": 4,
  "nbformat_minor": 0,
  "metadata": {
    "colab": {
      "provenance": [],
      "authorship_tag": "ABX9TyO1BnU7HzPhixw2QLONi6YH",
      "include_colab_link": true
    },
    "kernelspec": {
      "name": "python3",
      "display_name": "Python 3"
    },
    "language_info": {
      "name": "python"
    }
  },
  "cells": [
    {
      "cell_type": "markdown",
      "metadata": {
        "id": "view-in-github",
        "colab_type": "text"
      },
      "source": [
        "<a href=\"https://colab.research.google.com/github/muhammdkhayyam/muhammdkhayyam/blob/main/Mout_Stabtrust.ipynb\" target=\"_parent\"><img src=\"https://colab.research.google.com/assets/colab-badge.svg\" alt=\"Open In Colab\"/></a>"
      ]
    },
    {
      "cell_type": "code",
      "execution_count": 33,
      "metadata": {
        "colab": {
          "base_uri": "https://localhost:8080/"
        },
        "id": "bTu-C2rrFMYl",
        "outputId": "d75e9876-afd5-4cb2-f571-202f3fac801b"
      },
      "outputs": [
        {
          "output_type": "stream",
          "name": "stdout",
          "text": [
            "Requirement already satisfied: pyDecision in /usr/local/lib/python3.12/dist-packages (4.7.8)\n",
            "Requirement already satisfied: llmx in /usr/local/lib/python3.12/dist-packages (from pyDecision) (0.0.21a0)\n",
            "Requirement already satisfied: matplotlib in /usr/local/lib/python3.12/dist-packages (from pyDecision) (3.10.0)\n",
            "Requirement already satisfied: numpy in /usr/local/lib/python3.12/dist-packages (from pyDecision) (2.0.2)\n",
            "Requirement already satisfied: openai in /usr/local/lib/python3.12/dist-packages (from pyDecision) (1.107.0)\n",
            "Requirement already satisfied: pandas in /usr/local/lib/python3.12/dist-packages (from pyDecision) (2.2.2)\n",
            "Requirement already satisfied: scikit-learn in /usr/local/lib/python3.12/dist-packages (from pyDecision) (1.6.1)\n",
            "Requirement already satisfied: scipy in /usr/local/lib/python3.12/dist-packages (from pyDecision) (1.16.1)\n",
            "Requirement already satisfied: pydantic in /usr/local/lib/python3.12/dist-packages (from llmx->pyDecision) (2.11.7)\n",
            "Requirement already satisfied: tiktoken in /usr/local/lib/python3.12/dist-packages (from llmx->pyDecision) (0.11.0)\n",
            "Requirement already satisfied: diskcache in /usr/local/lib/python3.12/dist-packages (from llmx->pyDecision) (5.6.3)\n",
            "Requirement already satisfied: cohere in /usr/local/lib/python3.12/dist-packages (from llmx->pyDecision) (5.18.0)\n",
            "Requirement already satisfied: google.auth in /usr/local/lib/python3.12/dist-packages (from llmx->pyDecision) (2.38.0)\n",
            "Requirement already satisfied: typer in /usr/local/lib/python3.12/dist-packages (from llmx->pyDecision) (0.17.4)\n",
            "Requirement already satisfied: pyyaml in /usr/local/lib/python3.12/dist-packages (from llmx->pyDecision) (6.0.2)\n",
            "Requirement already satisfied: contourpy>=1.0.1 in /usr/local/lib/python3.12/dist-packages (from matplotlib->pyDecision) (1.3.3)\n",
            "Requirement already satisfied: cycler>=0.10 in /usr/local/lib/python3.12/dist-packages (from matplotlib->pyDecision) (0.12.1)\n",
            "Requirement already satisfied: fonttools>=4.22.0 in /usr/local/lib/python3.12/dist-packages (from matplotlib->pyDecision) (4.59.2)\n",
            "Requirement already satisfied: kiwisolver>=1.3.1 in /usr/local/lib/python3.12/dist-packages (from matplotlib->pyDecision) (1.4.9)\n",
            "Requirement already satisfied: packaging>=20.0 in /usr/local/lib/python3.12/dist-packages (from matplotlib->pyDecision) (25.0)\n",
            "Requirement already satisfied: pillow>=8 in /usr/local/lib/python3.12/dist-packages (from matplotlib->pyDecision) (11.3.0)\n",
            "Requirement already satisfied: pyparsing>=2.3.1 in /usr/local/lib/python3.12/dist-packages (from matplotlib->pyDecision) (3.2.3)\n",
            "Requirement already satisfied: python-dateutil>=2.7 in /usr/local/lib/python3.12/dist-packages (from matplotlib->pyDecision) (2.9.0.post0)\n",
            "Requirement already satisfied: anyio<5,>=3.5.0 in /usr/local/lib/python3.12/dist-packages (from openai->pyDecision) (4.10.0)\n",
            "Requirement already satisfied: distro<2,>=1.7.0 in /usr/local/lib/python3.12/dist-packages (from openai->pyDecision) (1.9.0)\n",
            "Requirement already satisfied: httpx<1,>=0.23.0 in /usr/local/lib/python3.12/dist-packages (from openai->pyDecision) (0.28.1)\n",
            "Requirement already satisfied: jiter<1,>=0.4.0 in /usr/local/lib/python3.12/dist-packages (from openai->pyDecision) (0.10.0)\n",
            "Requirement already satisfied: sniffio in /usr/local/lib/python3.12/dist-packages (from openai->pyDecision) (1.3.1)\n",
            "Requirement already satisfied: tqdm>4 in /usr/local/lib/python3.12/dist-packages (from openai->pyDecision) (4.67.1)\n",
            "Requirement already satisfied: typing-extensions<5,>=4.11 in /usr/local/lib/python3.12/dist-packages (from openai->pyDecision) (4.15.0)\n",
            "Requirement already satisfied: pytz>=2020.1 in /usr/local/lib/python3.12/dist-packages (from pandas->pyDecision) (2025.2)\n",
            "Requirement already satisfied: tzdata>=2022.7 in /usr/local/lib/python3.12/dist-packages (from pandas->pyDecision) (2025.2)\n",
            "Requirement already satisfied: joblib>=1.2.0 in /usr/local/lib/python3.12/dist-packages (from scikit-learn->pyDecision) (1.5.2)\n",
            "Requirement already satisfied: threadpoolctl>=3.1.0 in /usr/local/lib/python3.12/dist-packages (from scikit-learn->pyDecision) (3.6.0)\n",
            "Requirement already satisfied: idna>=2.8 in /usr/local/lib/python3.12/dist-packages (from anyio<5,>=3.5.0->openai->pyDecision) (3.10)\n",
            "Requirement already satisfied: certifi in /usr/local/lib/python3.12/dist-packages (from httpx<1,>=0.23.0->openai->pyDecision) (2025.8.3)\n",
            "Requirement already satisfied: httpcore==1.* in /usr/local/lib/python3.12/dist-packages (from httpx<1,>=0.23.0->openai->pyDecision) (1.0.9)\n",
            "Requirement already satisfied: h11>=0.16 in /usr/local/lib/python3.12/dist-packages (from httpcore==1.*->httpx<1,>=0.23.0->openai->pyDecision) (0.16.0)\n",
            "Requirement already satisfied: annotated-types>=0.6.0 in /usr/local/lib/python3.12/dist-packages (from pydantic->llmx->pyDecision) (0.7.0)\n",
            "Requirement already satisfied: pydantic-core==2.33.2 in /usr/local/lib/python3.12/dist-packages (from pydantic->llmx->pyDecision) (2.33.2)\n",
            "Requirement already satisfied: typing-inspection>=0.4.0 in /usr/local/lib/python3.12/dist-packages (from pydantic->llmx->pyDecision) (0.4.1)\n",
            "Requirement already satisfied: six>=1.5 in /usr/local/lib/python3.12/dist-packages (from python-dateutil>=2.7->matplotlib->pyDecision) (1.17.0)\n",
            "Requirement already satisfied: fastavro<2.0.0,>=1.9.4 in /usr/local/lib/python3.12/dist-packages (from cohere->llmx->pyDecision) (1.12.0)\n",
            "Requirement already satisfied: httpx-sse==0.4.0 in /usr/local/lib/python3.12/dist-packages (from cohere->llmx->pyDecision) (0.4.0)\n",
            "Requirement already satisfied: requests<3.0.0,>=2.0.0 in /usr/local/lib/python3.12/dist-packages (from cohere->llmx->pyDecision) (2.32.4)\n",
            "Requirement already satisfied: tokenizers<1,>=0.15 in /usr/local/lib/python3.12/dist-packages (from cohere->llmx->pyDecision) (0.22.0)\n",
            "Requirement already satisfied: types-requests<3.0.0,>=2.0.0 in /usr/local/lib/python3.12/dist-packages (from cohere->llmx->pyDecision) (2.32.4.20250913)\n",
            "Requirement already satisfied: cachetools<6.0,>=2.0.0 in /usr/local/lib/python3.12/dist-packages (from google.auth->llmx->pyDecision) (5.5.2)\n",
            "Requirement already satisfied: pyasn1-modules>=0.2.1 in /usr/local/lib/python3.12/dist-packages (from google.auth->llmx->pyDecision) (0.4.2)\n",
            "Requirement already satisfied: rsa<5,>=3.1.4 in /usr/local/lib/python3.12/dist-packages (from google.auth->llmx->pyDecision) (4.9.1)\n",
            "Requirement already satisfied: regex>=2022.1.18 in /usr/local/lib/python3.12/dist-packages (from tiktoken->llmx->pyDecision) (2024.11.6)\n",
            "Requirement already satisfied: click>=8.0.0 in /usr/local/lib/python3.12/dist-packages (from typer->llmx->pyDecision) (8.2.1)\n",
            "Requirement already satisfied: shellingham>=1.3.0 in /usr/local/lib/python3.12/dist-packages (from typer->llmx->pyDecision) (1.5.4)\n",
            "Requirement already satisfied: rich>=10.11.0 in /usr/local/lib/python3.12/dist-packages (from typer->llmx->pyDecision) (13.9.4)\n",
            "Requirement already satisfied: pyasn1<0.7.0,>=0.6.1 in /usr/local/lib/python3.12/dist-packages (from pyasn1-modules>=0.2.1->google.auth->llmx->pyDecision) (0.6.1)\n",
            "Requirement already satisfied: charset_normalizer<4,>=2 in /usr/local/lib/python3.12/dist-packages (from requests<3.0.0,>=2.0.0->cohere->llmx->pyDecision) (3.4.3)\n",
            "Requirement already satisfied: urllib3<3,>=1.21.1 in /usr/local/lib/python3.12/dist-packages (from requests<3.0.0,>=2.0.0->cohere->llmx->pyDecision) (2.5.0)\n",
            "Requirement already satisfied: markdown-it-py>=2.2.0 in /usr/local/lib/python3.12/dist-packages (from rich>=10.11.0->typer->llmx->pyDecision) (4.0.0)\n",
            "Requirement already satisfied: pygments<3.0.0,>=2.13.0 in /usr/local/lib/python3.12/dist-packages (from rich>=10.11.0->typer->llmx->pyDecision) (2.19.2)\n",
            "Requirement already satisfied: huggingface-hub<1.0,>=0.16.4 in /usr/local/lib/python3.12/dist-packages (from tokenizers<1,>=0.15->cohere->llmx->pyDecision) (0.34.4)\n",
            "Requirement already satisfied: filelock in /usr/local/lib/python3.12/dist-packages (from huggingface-hub<1.0,>=0.16.4->tokenizers<1,>=0.15->cohere->llmx->pyDecision) (3.19.1)\n",
            "Requirement already satisfied: fsspec>=2023.5.0 in /usr/local/lib/python3.12/dist-packages (from huggingface-hub<1.0,>=0.16.4->tokenizers<1,>=0.15->cohere->llmx->pyDecision) (2025.3.0)\n",
            "Requirement already satisfied: hf-xet<2.0.0,>=1.1.3 in /usr/local/lib/python3.12/dist-packages (from huggingface-hub<1.0,>=0.16.4->tokenizers<1,>=0.15->cohere->llmx->pyDecision) (1.1.9)\n",
            "Requirement already satisfied: mdurl~=0.1 in /usr/local/lib/python3.12/dist-packages (from markdown-it-py>=2.2.0->rich>=10.11.0->typer->llmx->pyDecision) (0.1.2)\n"
          ]
        }
      ],
      "source": [
        "pip install pyDecision"
      ]
    },
    {
      "cell_type": "code",
      "source": [
        "import pandas as pd\n",
        "import numpy as np\n",
        "from pyDecision.algorithm import maut_method\n"
      ],
      "metadata": {
        "id": "hpcjJI0pFkcg"
      },
      "execution_count": 34,
      "outputs": []
    },
    {
      "cell_type": "code",
      "source": [
        "# Weights\n",
        "weights = [0.1038,0.2156,0.1874,0.0951,0.1662,0.2319]\n",
        "\n",
        "# load criterion type: 'max' or 'min'\n",
        "criterion_type = ['max' ,'max' ,'max','max','max','max']\n",
        "\n",
        "#  load utility function\n",
        "\n",
        "utility_functions = ['exp', 'exp', 'exp', 'exp', 'exp','exp']\n",
        "# data set\n",
        "\n",
        "dataset = np.array([\n",
        "    [0.813, 0.650, 0.209, 0.986, 0.962, 0.588],\n",
        "    [0.512, 0.563, 0.777, 0.678, 0.937, 0.847],\n",
        "    [0.635, 0.594, 0.745, 0.490, 0.892, 0.443],\n",
        "    [0.609, 0.956, 0.630, 0.561, 0.497, 0.673],\n",
        "    [0.861, 0.800, 0.414, 0.208, 0.682, 0.994],\n",
        "    [0.832, 0.779, 0.713, 0.300, 0.524, 0.993],\n",
        "    [0.937, 0.542, 0.289, 0.401, 0.633, 0.444],\n",
        "    [0.543, 0.844, 0.548, 0.624, 0.434, 0.527],\n",
        "    [0.707, 0.538, 0.563, 0.305, 0.620, 0.558],\n",
        "    [0.515, 0.655, 0.963, 0.296, 0.972, 0.955],\n",
        "    [0.607, 0.984, 0.901, 0.163, 0.554, 0.924],\n",
        "    [0.748, 0.796, 0.411, 0.662, 0.855, 0.923],\n",
        "    [0.513, 0.751, 0.601, 0.304, 0.664, 0.620],\n",
        "    [0.597, 0.820, 0.343, 0.906, 0.645, 0.494],\n",
        "    [0.818, 0.905, 0.930, 0.865, 0.955, 0.896],\n",
        "    [0.767, 0.869, 0.896, 0.163, 0.977, 0.819],\n",
        "    [0.608, 0.574, 0.439, 0.312, 0.722, 0.764],\n",
        "    [0.789, 0.467, 0.711, 0.695, 0.817, 0.987],\n",
        "    [0.897, 0.620, 0.687, 0.291, 0.490, 0.789],\n",
        "    [0.503, 0.595, 0.322, 0.218, 0.572, 0.405],\n",
        "    [0.895, 0.564, 0.810, 0.933, 0.962, 0.886],\n",
        "    [0.842, 0.959, 0.632, 0.608, 0.736, 0.578],\n",
        "    [0.667, 0.923, 0.823, 0.521, 0.715, 0.795],\n",
        "    [0.576, 0.620, 0.624, 0.798, 0.834, 0.959],\n",
        "    [0.969, 0.804, 0.201, 0.819, 0.433, 0.480],\n",
        "    [0.665, 0.664, 0.459, 0.270, 0.739, 0.469],\n",
        "    [0.545, 0.944, 0.216, 0.186, 0.692, 0.464],\n",
        "    [0.547, 0.698, 0.943, 0.484, 0.895, 0.729],\n",
        "    [0.915, 0.593, 0.903, 0.477, 0.491, 0.562],\n",
        "    [0.796, 0.583, 0.865, 0.516, 0.957, 0.760],\n",
        "    [0.896, 0.753, 0.446, 0.749, 0.447, 0.827],\n",
        "    [0.858, 0.592, 0.246, 0.699, 0.508, 0.521],\n",
        "    [0.763, 0.766, 0.902, 0.976, 0.745, 0.777],\n",
        "    [0.977, 0.935, 0.958, 0.188, 0.792, 0.557],\n",
        "    [0.686, 0.666, 0.269, 0.458, 0.536, 0.691],\n",
        "    [0.771, 0.568, 0.589, 0.402, 0.470, 0.939],\n",
        "    [0.906, 0.989, 0.255, 0.867, 0.916, 0.903],\n",
        "    [0.803, 0.725, 0.809, 0.321, 0.543, 0.455],\n",
        "    [0.922, 0.499, 0.813, 0.269, 0.745, 0.652],\n",
        "    [0.783, 0.475, 0.303, 0.499, 0.759, 0.565],\n",
        "    [0.845, 0.509, 0.580, 0.476, 0.643, 0.402],\n",
        "    [0.523, 0.789, 0.640, 0.348, 0.739, 0.859],\n",
        "    [0.612, 0.878, 0.412, 0.322, 0.703, 0.779],\n",
        "    [0.642, 0.678, 0.898, 0.922, 0.942, 0.556],\n",
        "    [0.539, 0.484, 0.539, 0.494, 0.519, 0.841],\n",
        "    [0.614, 0.656, 0.369, 0.867, 0.815, 0.728],\n",
        "    [0.550, 0.988, 0.631, 0.590, 0.538, 0.655],\n",
        "    [0.636, 0.736, 0.784, 0.145, 0.630, 0.406],\n",
        "    [0.812, 0.974, 0.361, 0.989, 0.790, 0.445],\n",
        "    [0.679, 0.915, 0.449, 0.844, 0.574, 0.925]\n",
        "])"
      ],
      "metadata": {
        "id": "Fh9KFabyFsqD"
      },
      "execution_count": 36,
      "outputs": []
    },
    {
      "cell_type": "code",
      "source": [
        "#  MAUT_Method\n",
        "rank =  maut_method(dataset,weights,criterion_type,utility_functions,graph=True)\n",
        "rank"
      ],
      "metadata": {
        "colab": {
          "base_uri": "https://localhost:8080/",
          "height": 1000
        },
        "id": "bIe1B0RUW6aI",
        "outputId": "41fb7d8f-3f55-4861-ceef-f3cd8321f17c"
      },
      "execution_count": 40,
      "outputs": [
        {
          "output_type": "stream",
          "name": "stdout",
          "text": [
            "a1: 0.309\n",
            "a2: 0.349\n",
            "a3: 0.196\n",
            "a4: 0.268\n",
            "a5: 0.373\n",
            "a6: 0.388\n",
            "a7: 0.103\n",
            "a8: 0.139\n",
            "a9: 0.066\n",
            "a10: 0.556\n",
            "a11: 0.52\n",
            "a12: 0.351\n",
            "a13: 0.118\n",
            "a14: 0.167\n",
            "a15: 0.666\n",
            "a16: 0.517\n",
            "a17: 0.114\n",
            "a18: 0.403\n",
            "a19: 0.201\n",
            "a20: 0.017\n",
            "a21: 0.518\n",
            "a22: 0.328\n",
            "a23: 0.371\n",
            "a24: 0.359\n",
            "a25: 0.215\n",
            "a26: 0.079\n",
            "a27: 0.19\n",
            "a28: 0.36\n",
            "a29: 0.242\n",
            "a30: 0.377\n",
            "a31: 0.243\n",
            "a32: 0.09\n",
            "a33: 0.41\n",
            "a34: 0.504\n",
            "a35: 0.078\n",
            "a36: 0.238\n",
            "a37: 0.597\n",
            "a38: 0.169\n",
            "a39: 0.236\n",
            "a40: 0.09\n",
            "a41: 0.097\n",
            "a42: 0.25\n",
            "a43: 0.217\n",
            "a44: 0.389\n",
            "a45: 0.136\n",
            "a46: 0.195\n",
            "a47: 0.304\n",
            "a48: 0.143\n",
            "a49: 0.381\n",
            "a50: 0.378\n"
          ]
        },
        {
          "output_type": "display_data",
          "data": {
            "text/plain": [
              "<Figure size 640x480 with 1 Axes>"
            ],
            "image/png": "[encoded data removed]"
          },
          "metadata": {}
        },
        {
          "output_type": "execute_result",
          "data": {
            "text/plain": [
              "array([[1.50000000e+01, 6.65646412e-01],\n",
              "       [3.70000000e+01, 5.96604936e-01],\n",
              "       [1.00000000e+01, 5.55505526e-01],\n",
              "       [1.10000000e+01, 5.19815566e-01],\n",
              "       [2.10000000e+01, 5.18337697e-01],\n",
              "       [1.60000000e+01, 5.17479622e-01],\n",
              "       [3.40000000e+01, 5.04188187e-01],\n",
              "       [3.30000000e+01, 4.09558125e-01],\n",
              "       [1.80000000e+01, 4.02887601e-01],\n",
              "       [4.40000000e+01, 3.88721225e-01],\n",
              "       [6.00000000e+00, 3.88418128e-01],\n",
              "       [4.90000000e+01, 3.81219722e-01],\n",
              "       [5.00000000e+01, 3.78211471e-01],\n",
              "       [3.00000000e+01, 3.77348122e-01],\n",
              "       [5.00000000e+00, 3.72718909e-01],\n",
              "       [2.30000000e+01, 3.70966077e-01],\n",
              "       [2.80000000e+01, 3.59816363e-01],\n",
              "       [2.40000000e+01, 3.59013360e-01],\n",
              "       [1.20000000e+01, 3.50824168e-01],\n",
              "       [2.00000000e+00, 3.49147371e-01],\n",
              "       [2.20000000e+01, 3.27790362e-01],\n",
              "       [1.00000000e+00, 3.08677405e-01],\n",
              "       [4.70000000e+01, 3.03938537e-01],\n",
              "       [4.00000000e+00, 2.67829708e-01],\n",
              "       [4.20000000e+01, 2.50134902e-01],\n",
              "       [3.10000000e+01, 2.43369721e-01],\n",
              "       [2.90000000e+01, 2.41842946e-01],\n",
              "       [3.60000000e+01, 2.37743096e-01],\n",
              "       [3.90000000e+01, 2.35840416e-01],\n",
              "       [4.30000000e+01, 2.16515255e-01],\n",
              "       [2.50000000e+01, 2.14802642e-01],\n",
              "       [1.90000000e+01, 2.00651575e-01],\n",
              "       [3.00000000e+00, 1.95928265e-01],\n",
              "       [4.60000000e+01, 1.95384292e-01],\n",
              "       [2.70000000e+01, 1.90281724e-01],\n",
              "       [3.80000000e+01, 1.68975864e-01],\n",
              "       [1.40000000e+01, 1.67463263e-01],\n",
              "       [4.80000000e+01, 1.43304610e-01],\n",
              "       [8.00000000e+00, 1.38527356e-01],\n",
              "       [4.50000000e+01, 1.35767695e-01],\n",
              "       [1.30000000e+01, 1.18443907e-01],\n",
              "       [1.70000000e+01, 1.14426657e-01],\n",
              "       [7.00000000e+00, 1.03280381e-01],\n",
              "       [4.10000000e+01, 9.73338027e-02],\n",
              "       [3.20000000e+01, 9.03698530e-02],\n",
              "       [4.00000000e+01, 9.02026167e-02],\n",
              "       [2.60000000e+01, 7.88266987e-02],\n",
              "       [3.50000000e+01, 7.81407349e-02],\n",
              "       [9.00000000e+00, 6.60442847e-02],\n",
              "       [2.00000000e+01, 1.74881784e-02]])"
            ]
          },
          "metadata": {},
          "execution_count": 40
        }
      ]
    },
    {
      "cell_type": "code",
      "metadata": {
        "colab": {
          "base_uri": "https://localhost:8080/",
          "height": 1000
        },
        "id": "eaaaf172",
        "outputId": "83fdac67-6683-473b-a278-f1855c694eb6"
      },
      "source": [
        "# Run MAUT\n",
        "rank = maut_method(dataset, weights, criterion_type, utility_functions, graph=True)\n",
        "\n",
        "# Show only the first 10 ranked alternatives\n",
        "print(\"Top 10 Alternatives:\")\n",
        "print(rank[:10])"
      ],
      "execution_count": 43,
      "outputs": [
        {
          "output_type": "stream",
          "name": "stdout",
          "text": [
            "a1: 0.309\n",
            "a2: 0.349\n",
            "a3: 0.196\n",
            "a4: 0.268\n",
            "a5: 0.373\n",
            "a6: 0.388\n",
            "a7: 0.103\n",
            "a8: 0.139\n",
            "a9: 0.066\n",
            "a10: 0.556\n",
            "a11: 0.52\n",
            "a12: 0.351\n",
            "a13: 0.118\n",
            "a14: 0.167\n",
            "a15: 0.666\n",
            "a16: 0.517\n",
            "a17: 0.114\n",
            "a18: 0.403\n",
            "a19: 0.201\n",
            "a20: 0.017\n",
            "a21: 0.518\n",
            "a22: 0.328\n",
            "a23: 0.371\n",
            "a24: 0.359\n",
            "a25: 0.215\n",
            "a26: 0.079\n",
            "a27: 0.19\n",
            "a28: 0.36\n",
            "a29: 0.242\n",
            "a30: 0.377\n",
            "a31: 0.243\n",
            "a32: 0.09\n",
            "a33: 0.41\n",
            "a34: 0.504\n",
            "a35: 0.078\n",
            "a36: 0.238\n",
            "a37: 0.597\n",
            "a38: 0.169\n",
            "a39: 0.236\n",
            "a40: 0.09\n",
            "a41: 0.097\n",
            "a42: 0.25\n",
            "a43: 0.217\n",
            "a44: 0.389\n",
            "a45: 0.136\n",
            "a46: 0.195\n",
            "a47: 0.304\n",
            "a48: 0.143\n",
            "a49: 0.381\n",
            "a50: 0.378\n"
          ]
        },
        {
          "output_type": "display_data",
          "data": {
            "text/plain": [
              "<Figure size 640x480 with 1 Axes>"
            ],
            "image/png": "[encoded data removed]"
          },
          "metadata": {}
        },
        {
          "output_type": "stream",
          "name": "stdout",
          "text": [
            "Top 10 Alternatives:\n",
            "[[15.          0.66564641]\n",
            " [37.          0.59660494]\n",
            " [10.          0.55550553]\n",
            " [11.          0.51981557]\n",
            " [21.          0.5183377 ]\n",
            " [16.          0.51747962]\n",
            " [34.          0.50418819]\n",
            " [33.          0.40955812]\n",
            " [18.          0.4028876 ]\n",
            " [44.          0.38872123]]\n"
          ]
        }
      ]
    }
  ]
}